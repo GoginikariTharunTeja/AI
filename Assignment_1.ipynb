{
  "nbformat": 4,
  "nbformat_minor": 0,
  "metadata": {
    "colab": {
      "name": "Assignment 1.ipynb",
      "provenance": [],
      "toc_visible": true,
      "authorship_tag": "ABX9TyO2acKYFIs3M/7jMdup3qqJ",
      "include_colab_link": true
    },
    "kernelspec": {
      "name": "python3",
      "display_name": "Python 3"
    },
    "language_info": {
      "name": "python"
    }
  },
  "cells": [
    {
      "cell_type": "markdown",
      "metadata": {
        "id": "view-in-github",
        "colab_type": "text"
      },
      "source": [
        "<a href=\"https://colab.research.google.com/github/GoginikariTharunTeja/AI/blob/main/Assignment_1.ipynb\" target=\"_parent\"><img src=\"https://colab.research.google.com/assets/colab-badge.svg\" alt=\"Open In Colab\"/></a>"
      ]
    },
    {
      "cell_type": "code",
      "metadata": {
        "id": "JDAZ3IjcGCtX",
        "colab": {
          "base_uri": "https://localhost:8080/"
        },
        "outputId": "0fa88129-2e83-4543-d927-5e804c9e6069"
      },
      "source": [
        " from scipy.optimize import linprog\n",
        "obj=[-50,-120] # objective function\n",
        "A_ieq=[[7000,2000],[10,30],[1,1]] # 3Inequality constrains coeff. Matrix\n",
        "b_ieq=[700000,1200,110]    # Inequality constraints const. Matrix\n",
        "boundery=[(0,float('inf')), (0,float('inf'))]\n",
        "opt=linprog(c=obj,A_ub=A_ieq,b_ub=b_ieq,A_eq=None,b_eq=None,bounds=boundery,method=\"simplex\") \n",
        "opt.x\n",
        "W,B=opt.x # Answer is assigning to W & B\n",
        "Mobj=W*50+B*120  # profits of wheat and barely\n",
        "print('Number of hectares of Wheat=',round(opt.x[0])) \n",
        "print('Number of hectares of Barley=',round(opt.x[1])) \n",
        "print('profit of Wheat & Barley=',Mobj)"
      ],
      "execution_count": null,
      "outputs": [
        {
          "output_type": "stream",
          "text": [
            "Number of hectares of Wheat= 98\n",
            "Number of hectares of Barley= 7\n",
            "profit of Wheat & Barley= 5778.9473684210525\n"
          ],
          "name": "stdout"
        }
      ]
    }
  ]
}